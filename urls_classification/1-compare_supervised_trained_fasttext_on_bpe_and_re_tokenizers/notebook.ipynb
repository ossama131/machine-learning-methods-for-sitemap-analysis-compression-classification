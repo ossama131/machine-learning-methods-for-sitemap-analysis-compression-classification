{
 "cells": [
  {
   "cell_type": "code",
   "execution_count": 1,
   "id": "c74e49ef",
   "metadata": {},
   "outputs": [],
   "source": [
    "import fasttext\n",
    "import pandas as pd"
   ]
  },
  {
   "cell_type": "code",
   "execution_count": 2,
   "id": "5bd4990d",
   "metadata": {},
   "outputs": [],
   "source": [
    "df = pd.read_csv('data/raw/URL Classification.csv', index_col=0, header=None, names=['index', 'url', 'category'])"
   ]
  },
  {
   "cell_type": "code",
   "execution_count": 3,
   "id": "03445e16",
   "metadata": {},
   "outputs": [],
   "source": [
    "df = df.dropna()"
   ]
  },
  {
   "cell_type": "code",
   "execution_count": 4,
   "id": "b24c1c33",
   "metadata": {},
   "outputs": [
    {
     "data": {
      "text/html": [
       "<div>\n",
       "<style scoped>\n",
       "    .dataframe tbody tr th:only-of-type {\n",
       "        vertical-align: middle;\n",
       "    }\n",
       "\n",
       "    .dataframe tbody tr th {\n",
       "        vertical-align: top;\n",
       "    }\n",
       "\n",
       "    .dataframe thead th {\n",
       "        text-align: right;\n",
       "    }\n",
       "</style>\n",
       "<table border=\"1\" class=\"dataframe\">\n",
       "  <thead>\n",
       "    <tr style=\"text-align: right;\">\n",
       "      <th></th>\n",
       "      <th>url</th>\n",
       "    </tr>\n",
       "    <tr>\n",
       "      <th>category</th>\n",
       "      <th></th>\n",
       "    </tr>\n",
       "  </thead>\n",
       "  <tbody>\n",
       "    <tr>\n",
       "      <th>News</th>\n",
       "      <td>8989</td>\n",
       "    </tr>\n",
       "    <tr>\n",
       "      <th>Home</th>\n",
       "      <td>28269</td>\n",
       "    </tr>\n",
       "    <tr>\n",
       "      <th>Adult</th>\n",
       "      <td>35325</td>\n",
       "    </tr>\n",
       "    <tr>\n",
       "      <th>Kids</th>\n",
       "      <td>46182</td>\n",
       "    </tr>\n",
       "    <tr>\n",
       "      <th>Games</th>\n",
       "      <td>56477</td>\n",
       "    </tr>\n",
       "    <tr>\n",
       "      <th>Reference</th>\n",
       "      <td>58247</td>\n",
       "    </tr>\n",
       "    <tr>\n",
       "      <th>Health</th>\n",
       "      <td>60097</td>\n",
       "    </tr>\n",
       "    <tr>\n",
       "      <th>Shopping</th>\n",
       "      <td>95270</td>\n",
       "    </tr>\n",
       "    <tr>\n",
       "      <th>Sports</th>\n",
       "      <td>101328</td>\n",
       "    </tr>\n",
       "    <tr>\n",
       "      <th>Recreation</th>\n",
       "      <td>106586</td>\n",
       "    </tr>\n",
       "    <tr>\n",
       "      <th>Science</th>\n",
       "      <td>110286</td>\n",
       "    </tr>\n",
       "    <tr>\n",
       "      <th>Computers</th>\n",
       "      <td>117961</td>\n",
       "    </tr>\n",
       "    <tr>\n",
       "      <th>Business</th>\n",
       "      <td>240176</td>\n",
       "    </tr>\n",
       "    <tr>\n",
       "      <th>Society</th>\n",
       "      <td>243942</td>\n",
       "    </tr>\n",
       "    <tr>\n",
       "      <th>Arts</th>\n",
       "      <td>253840</td>\n",
       "    </tr>\n",
       "  </tbody>\n",
       "</table>\n",
       "</div>"
      ],
      "text/plain": [
       "               url\n",
       "category          \n",
       "News          8989\n",
       "Home         28269\n",
       "Adult        35325\n",
       "Kids         46182\n",
       "Games        56477\n",
       "Reference    58247\n",
       "Health       60097\n",
       "Shopping     95270\n",
       "Sports      101328\n",
       "Recreation  106586\n",
       "Science     110286\n",
       "Computers   117961\n",
       "Business    240176\n",
       "Society     243942\n",
       "Arts        253840"
      ]
     },
     "execution_count": 4,
     "metadata": {},
     "output_type": "execute_result"
    }
   ],
   "source": [
    "df.groupby('category').count().sort_values(by='url')"
   ]
  },
  {
   "cell_type": "code",
   "execution_count": 5,
   "id": "79caa655",
   "metadata": {},
   "outputs": [],
   "source": [
    "df = df.sample(frac=1, random_state=0)"
   ]
  },
  {
   "cell_type": "code",
   "execution_count": 6,
   "id": "f7ff4317",
   "metadata": {},
   "outputs": [],
   "source": [
    "df['category'] = df['category'].apply(lambda x: x.lower())"
   ]
  },
  {
   "cell_type": "code",
   "execution_count": 7,
   "id": "95fb0842",
   "metadata": {},
   "outputs": [],
   "source": [
    "s = df.groupby('category')['url'].apply(lambda x: list(x)[:8500])"
   ]
  },
  {
   "cell_type": "code",
   "execution_count": 8,
   "id": "d298ac91",
   "metadata": {},
   "outputs": [],
   "source": [
    "import random\n",
    "def train_test_split(s, train_size, shuffle=False):\n",
    "  category_len = len(s[s.index[0]])\n",
    "  l = int(category_len * train_size)\n",
    "  p = category_len - l\n",
    "  print('Each category will be splitted into:')\n",
    "  print(f'\\t+ train_data={l}')\n",
    "  print(f'\\t+ test_data={p}')\n",
    "\n",
    "  x_train, x_test, y_train, y_test = [], [], [], []\n",
    "  for i,v in s.iteritems():\n",
    "    x_train.extend(v[:l])\n",
    "    x_test.extend(v[l:])\n",
    "    y_train.extend([i]*l)\n",
    "    y_test.extend([i]*p)\n",
    "  \n",
    "  print(f'Done splitting:')\n",
    "  print(f'\\t+ total_train_data={len(x_train)}')\n",
    "  print(f'\\t+ total_test_data={len(x_test)}')\n",
    "\n",
    "  if shuffle:\n",
    "    random.seed(0)\n",
    "    train = list(zip(x_train, y_train))\n",
    "    test = list(zip(x_test, y_test))\n",
    "    random.shuffle(train)\n",
    "    random.shuffle(test)\n",
    "    x_train, y_train = zip(*train)\n",
    "    x_test, y_test = zip(*test)\n",
    "    print('Data shuffled.')\n",
    "  \n",
    "  return x_train, x_test, y_train, y_test"
   ]
  },
  {
   "cell_type": "code",
   "execution_count": 9,
   "id": "70487b2f",
   "metadata": {},
   "outputs": [
    {
     "name": "stdout",
     "output_type": "stream",
     "text": [
      "Each category will be splitted into:\n",
      "\t+ train_data=7650\n",
      "\t+ test_data=850\n",
      "Done splitting:\n",
      "\t+ total_train_data=114750\n",
      "\t+ total_test_data=12750\n",
      "Data shuffled.\n"
     ]
    }
   ],
   "source": [
    "x_train, x_test, y_train, y_test = train_test_split(s, 0.9, shuffle=True)"
   ]
  },
  {
   "cell_type": "code",
   "execution_count": 10,
   "id": "3df221ba",
   "metadata": {},
   "outputs": [
    {
     "data": {
      "text/plain": [
       "True"
      ]
     },
     "execution_count": 10,
     "metadata": {},
     "output_type": "execute_result"
    }
   ],
   "source": [
    "len(x_test) == len(y_test)"
   ]
  },
  {
   "cell_type": "code",
   "execution_count": 43,
   "id": "138ac9c9",
   "metadata": {},
   "outputs": [],
   "source": [
    "from pathlib import Path\n",
    "import os\n",
    "\n",
    "def save_data(data:list, dir_name:str, base_filename:str, filename_suffix:str):\n",
    "    Path(dir_name).mkdir(parents=True, exist_ok=True)\n",
    "    file_path = os.path.join(dir_name, base_filename + \".\" + filename_suffix)\n",
    "    with open(file_path, 'w') as f_out:\n",
    "        for line in data:\n",
    "            if line:\n",
    "                f_out.write(line + '\\n')\n",
    "    \n",
    "    print('Done!')"
   ]
  },
  {
   "cell_type": "code",
   "execution_count": 40,
   "id": "7e128372",
   "metadata": {},
   "outputs": [
    {
     "name": "stdout",
     "output_type": "stream",
     "text": [
      "Done!\n",
      "Done!\n",
      "Done!\n",
      "Done!\n"
     ]
    }
   ],
   "source": [
    "save_data(x_train, './data/raw/train', 'x_train', 'txt')\n",
    "save_data(y_train, './data/raw/train', 'y_train', 'txt')\n",
    "save_data(x_test, './data/raw/test', 'x_test', 'txt')\n",
    "save_data(y_test, './data/raw/test', 'y_test', 'txt')"
   ]
  },
  {
   "cell_type": "code",
   "execution_count": 11,
   "id": "fce79f71",
   "metadata": {},
   "outputs": [],
   "source": [
    "import re\n",
    "from urllib.parse import urlparse\n",
    "\n",
    "splitter = re.compile(r'([^a-zA-Z0-9])')\n",
    "\n",
    "def tokenize_url(url:str)->str:\n",
    "  if not url:\n",
    "    return ''\n",
    "  \n",
    "  parsed = urlparse(url)\n",
    "  tokens = []\n",
    "  if parsed.scheme:\n",
    "    tokens.append(parsed.scheme)\n",
    "    tokens.append('://')\n",
    "    url = url.lstrip(parsed.scheme).lstrip('://')\n",
    "\n",
    "  splitted = splitter.split(url)\n",
    "  tokens.extend(splitted)\n",
    "\n",
    "  return ' '.join(list(filter(None, tokens)))"
   ]
  },
  {
   "cell_type": "code",
   "execution_count": 12,
   "id": "70fce401",
   "metadata": {},
   "outputs": [
    {
     "name": "stdout",
     "output_type": "stream",
     "text": [
      "\n",
      "\n",
      "\n"
     ]
    }
   ],
   "source": [
    "from tokenizers import ByteLevelBPETokenizer\n",
    "\n",
    "tokenizer = ByteLevelBPETokenizer(lowercase=True)\n",
    "tokenizer.train(\n",
    "    './data/raw/train/x_train.txt',\n",
    "    vocab_size=120000,\n",
    "    min_frequency=5,\n",
    "    show_progress=True,\n",
    "    special_tokens=['<pad>']\n",
    ")"
   ]
  },
  {
   "cell_type": "code",
   "execution_count": 14,
   "id": "703101f5",
   "metadata": {},
   "outputs": [],
   "source": [
    "from transformers import GPT2Tokenizer\n",
    "tokenizer = GPT2Tokenizer.from_pretrained(\"gpt2\")"
   ]
  },
  {
   "cell_type": "code",
   "execution_count": 22,
   "id": "a6231231",
   "metadata": {},
   "outputs": [],
   "source": [
    "def bpe_tokenizer(url:str)-> str:\n",
    "    return ' '.join(tokenizer.tokenize(url))"
   ]
  },
  {
   "cell_type": "code",
   "execution_count": 16,
   "id": "560f37cd",
   "metadata": {},
   "outputs": [
    {
     "data": {
      "text/plain": [
       "'http :// www . vanderbilt . edu / kappaalphaorder /'"
      ]
     },
     "execution_count": 16,
     "metadata": {},
     "output_type": "execute_result"
    }
   ],
   "source": [
    "tokenize_url('http://www.vanderbilt.edu/kappaalphaorder/')"
   ]
  },
  {
   "cell_type": "code",
   "execution_count": 23,
   "id": "ab687da1",
   "metadata": {},
   "outputs": [
    {
     "data": {
      "text/plain": [
       "'http :// www . v ander bilt . edu / k appa alpha order /'"
      ]
     },
     "execution_count": 23,
     "metadata": {},
     "output_type": "execute_result"
    }
   ],
   "source": [
    "bpe_tokenizer('http://www.vanderbilt.edu/kappaalphaorder/')"
   ]
  },
  {
   "cell_type": "code",
   "execution_count": 24,
   "id": "cce433d2",
   "metadata": {},
   "outputs": [
    {
     "data": {
      "text/plain": [
       "'http :// www . fullcardreports . com /'"
      ]
     },
     "execution_count": 24,
     "metadata": {},
     "output_type": "execute_result"
    }
   ],
   "source": [
    "tokenize_url('http://www.fullcardreports.com/')"
   ]
  },
  {
   "cell_type": "code",
   "execution_count": 25,
   "id": "178eac21",
   "metadata": {},
   "outputs": [
    {
     "data": {
      "text/plain": [
       "'http :// www . full card reports . com /'"
      ]
     },
     "execution_count": 25,
     "metadata": {},
     "output_type": "execute_result"
    }
   ],
   "source": [
    "bpe_tokenizer('http://www.fullcardreports.com/')"
   ]
  },
  {
   "cell_type": "code",
   "execution_count": 26,
   "id": "5ba593a0",
   "metadata": {},
   "outputs": [],
   "source": [
    "FASTTEXT_LABEL = '__label__'\n",
    "\n",
    "def prepare_data_for_fasttext(data, tokenizer=lambda x:x):\n",
    "    text = []\n",
    "    \n",
    "    for d in data:\n",
    "        tokenized_txt = tokenizer(d[0])\n",
    "        txt = FASTTEXT_LABEL + d[1] + ' ' + tokenized_txt\n",
    "        text.append(txt)\n",
    "    return text"
   ]
  },
  {
   "cell_type": "code",
   "execution_count": 27,
   "id": "22b7dcd3",
   "metadata": {},
   "outputs": [],
   "source": [
    "train = prepare_data_for_fasttext(zip(x_train, y_train), tokenizer=tokenize_url)\n",
    "test = prepare_data_for_fasttext(zip(x_test, y_test), tokenizer=tokenize_url)"
   ]
  },
  {
   "cell_type": "code",
   "execution_count": 28,
   "id": "08fc7a76",
   "metadata": {},
   "outputs": [
    {
     "name": "stdout",
     "output_type": "stream",
     "text": [
      "114750\n",
      "12750\n"
     ]
    }
   ],
   "source": [
    "print(len(train))\n",
    "print(len(test))"
   ]
  },
  {
   "cell_type": "code",
   "execution_count": 58,
   "id": "29ab7ae7",
   "metadata": {},
   "outputs": [
    {
     "name": "stdout",
     "output_type": "stream",
     "text": [
      "Done!\n",
      "Done!\n"
     ]
    }
   ],
   "source": [
    "save_data(train, './data/preprocessed', 'urls', 'regex.train')\n",
    "save_data(test, './data/preprocessed', 'urls', 'regex.test')"
   ]
  },
  {
   "cell_type": "code",
   "execution_count": 45,
   "id": "7bfd9bda",
   "metadata": {},
   "outputs": [
    {
     "name": "stdout",
     "output_type": "stream",
     "text": [
      "Done!\n",
      "Done!\n"
     ]
    }
   ],
   "source": [
    "save_data(train, '/home/smida/test', 'urls', 'regex.train')\n",
    "save_data(test, '/home/smida/test', 'urls', 'regex.test')"
   ]
  },
  {
   "cell_type": "code",
   "execution_count": 29,
   "id": "2a7a593b",
   "metadata": {},
   "outputs": [],
   "source": [
    "bpe_train = prepare_data_for_fasttext(zip(x_train, y_train), tokenizer=bpe_tokenizer)\n",
    "bpe_test = prepare_data_for_fasttext(zip(x_test, y_test), tokenizer=bpe_tokenizer)"
   ]
  },
  {
   "cell_type": "code",
   "execution_count": 19,
   "id": "c8430013",
   "metadata": {},
   "outputs": [
    {
     "name": "stdout",
     "output_type": "stream",
     "text": [
      "Done!\n",
      "Done!\n"
     ]
    }
   ],
   "source": [
    "save_data(bpe_train, './data/preprocessed', 'urls', 'bpe.train')\n",
    "save_data(bpe_test, './data/preprocessed', 'urls', 'bpe.test')"
   ]
  },
  {
   "cell_type": "code",
   "execution_count": 44,
   "id": "e6ddf45d",
   "metadata": {},
   "outputs": [
    {
     "name": "stdout",
     "output_type": "stream",
     "text": [
      "Done!\n",
      "Done!\n"
     ]
    }
   ],
   "source": [
    "save_data(bpe_train, '/home/smida/test', 'urls', 'bpe.train')\n",
    "save_data(bpe_test, '/home/smida/test', 'urls', 'bpe.test')"
   ]
  },
  {
   "cell_type": "code",
   "execution_count": 46,
   "id": "b3706a6b",
   "metadata": {},
   "outputs": [],
   "source": [
    "fasttext_params_re = {\n",
    "    'input': '/home/smida/test/urls.regex.train'\n",
    "}\n",
    "\n",
    "fasttext_params_bpe = {\n",
    "    'input': '/home/smida/test/urls.bpe.train'\n",
    "}"
   ]
  },
  {
   "cell_type": "code",
   "execution_count": 215,
   "id": "23dc725e",
   "metadata": {},
   "outputs": [],
   "source": [
    "fasttext_params_re = {\n",
    "    'input': \"./data/preprocessed/urls.regex.train\",\n",
    "    'lr': 0.1,\n",
    "    'lrUpdateRate': 1000,\n",
    "    'thread': 8,\n",
    "    'epoch': 10,\n",
    "    'wordNgrams': 3,\n",
    "    'dim': 100,\n",
    "    'loss': 'ova'\n",
    "}\n",
    "\n",
    "fasttext_params_bpe = {\n",
    "    'input': \"./data/preprocessed/urls.bpe.train\",\n",
    "    'lr': 0.1,\n",
    "    'lrUpdateRate': 1000,\n",
    "    'thread': 8,\n",
    "    'epoch': 25,\n",
    "    'wordNgrams': 3,\n",
    "    'dim': 32,\n",
    "    'loss': 'ova'\n",
    "}\n"
   ]
  },
  {
   "cell_type": "code",
   "execution_count": 47,
   "id": "62db2ab0",
   "metadata": {},
   "outputs": [
    {
     "name": "stderr",
     "output_type": "stream",
     "text": [
      "Read 1M words\n",
      "Number of words:  128139\n",
      "Number of labels: 15\n",
      "Progress: 100.0% words/sec/thread:  148216 lr:  0.000000 avg.loss:  2.179256 ETA:   0h 0m 0s\n"
     ]
    }
   ],
   "source": [
    "re_model = fasttext.train_supervised(**fasttext_params_re)"
   ]
  },
  {
   "cell_type": "code",
   "execution_count": 48,
   "id": "7e436039",
   "metadata": {},
   "outputs": [
    {
     "data": {
      "text/plain": [
       "(12750, 0.34541176470588236, 0.34541176470588236)"
      ]
     },
     "execution_count": 48,
     "metadata": {},
     "output_type": "execute_result"
    }
   ],
   "source": [
    "re_model.test(\"/home/smida/test/urls.regex.test\")"
   ]
  },
  {
   "cell_type": "code",
   "execution_count": 50,
   "id": "aa56f930",
   "metadata": {},
   "outputs": [
    {
     "name": "stderr",
     "output_type": "stream",
     "text": [
      "Read 1M words\n",
      "Number of words:  9995\n",
      "Number of labels: 15\n",
      "Progress: 100.0% words/sec/thread:  176381 lr:  0.000000 avg.loss:  1.902293 ETA:   0h 0m 0s\n"
     ]
    }
   ],
   "source": [
    "bpe_model = fasttext.train_supervised(**fasttext_params_bpe)"
   ]
  },
  {
   "cell_type": "code",
   "execution_count": 51,
   "id": "fb52bd78",
   "metadata": {},
   "outputs": [
    {
     "data": {
      "text/plain": [
       "(12750, 0.46572549019607845, 0.46572549019607845)"
      ]
     },
     "execution_count": 51,
     "metadata": {},
     "output_type": "execute_result"
    }
   ],
   "source": [
    "bpe_model.test(\"/home/smida/test/urls.bpe.test\")"
   ]
  },
  {
   "cell_type": "code",
   "execution_count": 218,
   "id": "46efbe0b",
   "metadata": {},
   "outputs": [
    {
     "name": "stderr",
     "output_type": "stream",
     "text": [
      "Progress: 100.0% Trials:   15 Best score:  0.531137 ETA:   0h 0m 0s\n",
      "Training again with best arguments\n",
      "Read 1M words\n",
      "Number of words:  43851\n",
      "Number of labels: 15\n",
      "Progress: 100.0% words/sec/thread:  197040 lr:  0.000000 avg.loss:  1.483397 ETA:   0h 0m 0s\n"
     ]
    }
   ],
   "source": [
    "bpe_model = fasttext.train_supervised(input=\"./data/preprocessed/urls.bpe.train\", autotuneValidationFile='./data/preprocessed/urls.bpe.test.valid')"
   ]
  },
  {
   "cell_type": "code",
   "execution_count": 221,
   "id": "2999539a",
   "metadata": {},
   "outputs": [
    {
     "data": {
      "text/plain": [
       "(6375, 0.5221960784313725, 0.5221960784313725)"
      ]
     },
     "execution_count": 221,
     "metadata": {},
     "output_type": "execute_result"
    }
   ],
   "source": [
    "bpe_model.test(\"./data/preprocessed/urls.bpe.test.test\")"
   ]
  },
  {
   "cell_type": "code",
   "execution_count": 163,
   "id": "16af16eb",
   "metadata": {},
   "outputs": [
    {
     "name": "stdout",
     "output_type": "stream",
     "text": [
      "Encoding(num_tokens=10, attributes=[ids, type_ids, tokens, offsets, attention_mask, special_tokens_mask, overflowing])\n"
     ]
    }
   ],
   "source": [
    "encoded_text = tokenizer.encode('http://www.fullcardreports.com/')\n",
    "print(encoded_text)"
   ]
  },
  {
   "cell_type": "code",
   "execution_count": null,
   "id": "b8c3eb3f",
   "metadata": {},
   "outputs": [],
   "source": []
  },
  {
   "cell_type": "code",
   "execution_count": 187,
   "id": "80769827",
   "metadata": {},
   "outputs": [
    {
     "data": {
      "text/plain": [
       "'http :// www . full card reports . com /'"
      ]
     },
     "execution_count": 187,
     "metadata": {},
     "output_type": "execute_result"
    }
   ],
   "source": [
    "' '.join(encoded_text.tokens)"
   ]
  },
  {
   "cell_type": "code",
   "execution_count": 222,
   "id": "e102aa09",
   "metadata": {},
   "outputs": [
    {
     "data": {
      "text/plain": [
       "(('__label__news', '__label__business'), array([0.32726616, 0.16468467]))"
      ]
     },
     "execution_count": 222,
     "metadata": {},
     "output_type": "execute_result"
    }
   ],
   "source": [
    "bpe_model.predict('http :// www . full card reports . com /', k=2)"
   ]
  },
  {
   "cell_type": "code",
   "execution_count": null,
   "id": "4a7c3b4a",
   "metadata": {},
   "outputs": [],
   "source": [
    "train = prepare_data_for_fasttext(zip(x_train, y_train), tokenizer=encoded_text.tokens)\n",
    "test = prepare_data_for_fasttext(zip(x_test, y_test), tokenizer=encoded_text.tokens)"
   ]
  },
  {
   "cell_type": "code",
   "execution_count": null,
   "id": "617139c5",
   "metadata": {},
   "outputs": [],
   "source": [
    "model_bpe = fasttext.train_supervised(input=\"./data/preprocessed/urls.regex.train\", lr=0.5 , dim=300, loss='ova', epoch=20, wordNgrams=6)"
   ]
  }
 ],
 "metadata": {
  "kernelspec": {
   "display_name": "url_classification",
   "language": "python",
   "name": "url_classification"
  },
  "language_info": {
   "codemirror_mode": {
    "name": "ipython",
    "version": 3
   },
   "file_extension": ".py",
   "mimetype": "text/x-python",
   "name": "python",
   "nbconvert_exporter": "python",
   "pygments_lexer": "ipython3",
   "version": "3.8.10"
  }
 },
 "nbformat": 4,
 "nbformat_minor": 5
}
