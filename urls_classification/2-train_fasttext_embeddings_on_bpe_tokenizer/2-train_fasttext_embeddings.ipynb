{
 "cells": [
  {
   "cell_type": "code",
   "execution_count": 1,
   "id": "6ed92193",
   "metadata": {},
   "outputs": [],
   "source": [
    "import fasttext\n",
    "import pandas as pd"
   ]
  },
  {
   "cell_type": "code",
   "execution_count": 44,
   "id": "39c94a0b",
   "metadata": {},
   "outputs": [],
   "source": [
    "#tokenizer class from huggingface github\n",
    "##https://github.com/huggingface/tokenizers/blob/main/bindings/python/py_src/tokenizers/implementations/base_tokenizer.py"
   ]
  },
  {
   "cell_type": "code",
   "execution_count": 2,
   "id": "11bcc8d7",
   "metadata": {},
   "outputs": [
    {
     "name": "stdout",
     "output_type": "stream",
     "text": [
      "\n",
      "\n",
      "\n"
     ]
    }
   ],
   "source": [
    "from tokenizers import ByteLevelBPETokenizer\n",
    "\n",
    "tokenizer = ByteLevelBPETokenizer(lowercase=True)\n",
    "tokenizer.train(\n",
    "    './data/raw/train/x_train.txt',\n",
    "    vocab_size=120000,\n",
    "    min_frequency=5,\n",
    "    show_progress=True,\n",
    "    special_tokens=['<pad>']\n",
    ")"
   ]
  },
  {
   "cell_type": "code",
   "execution_count": 3,
   "id": "4f3c111e",
   "metadata": {},
   "outputs": [],
   "source": [
    "tokenizer.save('./tokenizers/bpe_tokenizer/bpe_tokenizer.json')"
   ]
  },
  {
   "cell_type": "code",
   "execution_count": 4,
   "id": "43426fe4",
   "metadata": {},
   "outputs": [],
   "source": [
    "with open('./data/raw/train/x_train.txt', 'r') as f_in:\n",
    "    x_train = f_in.read().split('\\n')[:-1]"
   ]
  },
  {
   "cell_type": "code",
   "execution_count": 5,
   "id": "3fe2be99",
   "metadata": {},
   "outputs": [],
   "source": [
    "with open('./data/fasttext_embedding_format/x_train.bpe', 'w') as f_out:\n",
    "    for url in x_train:\n",
    "        tokenized = ' '.join(tokenizer.encode(url).tokens)\n",
    "        f_out.write(tokenized + '\\n')\n",
    "    "
   ]
  },
  {
   "cell_type": "code",
   "execution_count": 7,
   "id": "bbcf8c78",
   "metadata": {},
   "outputs": [
    {
     "name": "stderr",
     "output_type": "stream",
     "text": [
      "Read 1M words\n",
      "Number of words:  16773\n",
      "Number of labels: 0\n",
      "Progress: 100.0% words/sec/thread:  230125 lr:  0.000000 avg.loss:  1.984436 ETA:   0h 0m 0s\n"
     ]
    }
   ],
   "source": [
    "model = fasttext.train_unsupervised('./data/fasttext_embedding_format/x_train.bpe', minn=1, maxn=6, dim=32, ws=7, epoch=25, minCount=5, wordNgrams=3)"
   ]
  },
  {
   "cell_type": "code",
   "execution_count": 8,
   "id": "7c4d19eb",
   "metadata": {},
   "outputs": [],
   "source": [
    "model.save_model('embedding/fasttext/bpe_model.bin')"
   ]
  },
  {
   "cell_type": "code",
   "execution_count": 135,
   "id": "fbefaa9b",
   "metadata": {},
   "outputs": [
    {
     "data": {
      "text/plain": [
       "['http', '://', 'duk', 'eder', 'm', '.', 'duke', '.', 'edu', '/']"
      ]
     },
     "execution_count": 135,
     "metadata": {},
     "output_type": "execute_result"
    }
   ],
   "source": [
    "fasttext.FastText.tokenize('http :// duk eder m . duke . edu /')"
   ]
  },
  {
   "cell_type": "code",
   "execution_count": 82,
   "id": "8fef8bc3",
   "metadata": {},
   "outputs": [],
   "source": [
    "tokenizer.enable_padding(direction=\"right\", pad_id=0, pad_token='<pad>', length=256)"
   ]
  },
  {
   "cell_type": "code",
   "execution_count": 83,
   "id": "18cfe79b",
   "metadata": {},
   "outputs": [],
   "source": [
    "tokenizer.enable_truncation(max_length=256)"
   ]
  },
  {
   "cell_type": "code",
   "execution_count": 84,
   "id": "13028ae0",
   "metadata": {},
   "outputs": [
    {
     "data": {
      "text/plain": [
       "18408"
      ]
     },
     "execution_count": 84,
     "metadata": {},
     "output_type": "execute_result"
    }
   ],
   "source": [
    "tokenizer.get_vocab_size()"
   ]
  }
 ],
 "metadata": {
  "kernelspec": {
   "display_name": "url_classification",
   "language": "python",
   "name": "url_classification"
  },
  "language_info": {
   "codemirror_mode": {
    "name": "ipython",
    "version": 3
   },
   "file_extension": ".py",
   "mimetype": "text/x-python",
   "name": "python",
   "nbconvert_exporter": "python",
   "pygments_lexer": "ipython3",
   "version": "3.8.10"
  }
 },
 "nbformat": 4,
 "nbformat_minor": 5
}
