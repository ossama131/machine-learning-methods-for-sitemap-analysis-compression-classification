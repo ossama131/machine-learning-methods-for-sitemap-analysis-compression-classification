{
 "cells": [
  {
   "cell_type": "code",
   "execution_count": 142,
   "id": "fa27a494",
   "metadata": {},
   "outputs": [],
   "source": [
    "import fasttext\n",
    "from tokenizers import Tokenizer\n",
    "import torch\n",
    "import numpy as np\n",
    "from tqdm import tqdm"
   ]
  },
  {
   "cell_type": "code",
   "execution_count": 2,
   "id": "a4cd90b3",
   "metadata": {},
   "outputs": [],
   "source": [
    "tokenizer = Tokenizer.from_file(\"tokenizers/bpe_tokenizer/bpe_tokenizer.json\")"
   ]
  },
  {
   "cell_type": "code",
   "execution_count": 51,
   "id": "91828242",
   "metadata": {},
   "outputs": [],
   "source": [
    "tokenizer.enable_padding(direction=\"right\", pad_id=0, pad_token='<pad>', length=256)\n",
    "tokenizer.enable_truncation(max_length=256)"
   ]
  },
  {
   "cell_type": "code",
   "execution_count": 4,
   "id": "58bd5dc0",
   "metadata": {},
   "outputs": [
    {
     "name": "stderr",
     "output_type": "stream",
     "text": [
      "Warning : `load_model` does not return WordVectorModel or SupervisedModel any more, but a `FastText` object which is very similar.\n"
     ]
    }
   ],
   "source": [
    "model = fasttext.load_model('embedding/fasttext/bpe_model.bin')"
   ]
  },
  {
   "cell_type": "code",
   "execution_count": 143,
   "id": "e54057fe",
   "metadata": {},
   "outputs": [],
   "source": [
    "def create_embeddings(fasttext_model, bpe_tokenizer, dim=32):\n",
    "    vocab_size = bpe_tokenizer.get_vocab_size()\n",
    "    vocab = bpe_tokenizer.get_vocab()\n",
    "    \n",
    "    # Initilize random embeddings\n",
    "    embeddings = np.random.uniform(-0.25, 0.25, (vocab_size, dim))\n",
    "    \n",
    "    # Load pretrained vectors\n",
    "    for word, ids in tqdm(vocab.items()):\n",
    "        embeddings[ids] = fasttext_model[word]\n",
    "    \n",
    "    # Padding token embedding set to 0\n",
    "    embeddings[vocab['<pad>']] = np.zeros((dim,))\n",
    "    \n",
    "    return embeddings"
   ]
  },
  {
   "cell_type": "code",
   "execution_count": 144,
   "id": "caf13acf",
   "metadata": {},
   "outputs": [
    {
     "name": "stderr",
     "output_type": "stream",
     "text": [
      "\n",
      "\n",
      "\n",
      "  0%|                                                                                                                             | 0/18407 [00:00<?, ?it/s]\u001b[A\u001b[A\u001b[A\n",
      "\n",
      "\n",
      "100%|█████████████████████████████████████████████████████████████████████████████████████████████████████████████| 18407/18407 [00:00<00:00, 143855.57it/s]\u001b[A\u001b[A\u001b[A\n"
     ]
    }
   ],
   "source": [
    "embeddings = create_embeddings(model, tokenizer, dim=32)"
   ]
  },
  {
   "cell_type": "code",
   "execution_count": 146,
   "id": "1b1d313d",
   "metadata": {},
   "outputs": [],
   "source": [
    "embeddings = torch.tensor(embeddings)"
   ]
  },
  {
   "cell_type": "code",
   "execution_count": 147,
   "id": "d6f355dc",
   "metadata": {},
   "outputs": [
    {
     "data": {
      "text/plain": [
       "tensor([[ 0.0000e+00,  0.0000e+00,  0.0000e+00,  ...,  0.0000e+00,\n",
       "          0.0000e+00,  0.0000e+00],\n",
       "        [ 9.3706e-02,  1.0837e+00, -3.0781e-01,  ..., -9.1932e-01,\n",
       "         -7.0177e-03, -1.6006e+00],\n",
       "        [-2.4031e-03,  9.2957e-05, -6.0015e-04,  ..., -3.0015e-03,\n",
       "         -3.6742e-03,  7.4832e-03],\n",
       "        ...,\n",
       "        [-1.1193e-01,  8.7496e-01,  9.6823e-01,  ..., -2.9757e-01,\n",
       "         -4.1534e-01, -2.7781e-01],\n",
       "        [ 8.1030e-02,  1.3913e+00,  2.9736e-01,  ..., -3.9460e-01,\n",
       "          2.1698e-01, -1.4945e-01],\n",
       "        [ 8.4393e-02,  1.3341e+00,  6.4531e-01,  ..., -8.9766e-01,\n",
       "         -2.2877e-01, -4.3331e-02]], dtype=torch.float64)"
      ]
     },
     "execution_count": 147,
     "metadata": {},
     "output_type": "execute_result"
    }
   ],
   "source": [
    "embeddings"
   ]
  },
  {
   "cell_type": "code",
   "execution_count": 148,
   "id": "57c4c2a6",
   "metadata": {},
   "outputs": [],
   "source": [
    "torch.save(embeddings, 'embedding/tensor/embeddings.pt')"
   ]
  }
 ],
 "metadata": {
  "kernelspec": {
   "display_name": "url_classification",
   "language": "python",
   "name": "url_classification"
  },
  "language_info": {
   "codemirror_mode": {
    "name": "ipython",
    "version": 3
   },
   "file_extension": ".py",
   "mimetype": "text/x-python",
   "name": "python",
   "nbconvert_exporter": "python",
   "pygments_lexer": "ipython3",
   "version": "3.8.10"
  }
 },
 "nbformat": 4,
 "nbformat_minor": 5
}
